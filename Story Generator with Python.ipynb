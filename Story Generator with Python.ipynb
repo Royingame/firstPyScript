{
 "cells": [
  {
   "cell_type": "markdown",
   "metadata": {},
   "source": [
    "## Noobie projects to get started with python"
   ]
  },
  {
   "cell_type": "code",
   "execution_count": null,
   "metadata": {},
   "outputs": [],
   "source": [
    "import random\n",
    "# we have imported the random module/library in python to generate or select random inputs that we will be passing for our story line up in list as varibale.\n",
    "## You can read more about the random module in this link \"https://docs.python.org/3/library/random.html\""
   ]
  },
  {
   "cell_type": "code",
   "execution_count": 8,
   "metadata": {},
   "outputs": [],
   "source": [
    "## We will now create list that will form the base of a story and will deliver or contain answers or variables in the form of list\n",
    "\n",
    "when=['A few years ago','Yesterday','Last Night','A long time ago','On 20th Jan','Exactly 10 years ago from today','In 15th Century','During First World war']\n",
    "who=['Hanzō Salamander','Sasori Aburame','Sasuke Uchiha','Kakashi Hatake','Jin Mori','Minato Namikaze','Naruto Uzumaki']\n",
    "name=[\"Edward Patterson\",\"Diane Lopez\",\"Eric Lewis\",\"Carol Stewart\",\"Joseph Perez\",\"Ruby Davis\",\"Marie Williams\"]\n",
    "residence=['Pirn','Wolfden','Caerdydd','Warthford','Stanmore','Glaenarm','Ferndochty']\n",
    "went=['cinema','university','seminar','school','library','stadium','tuition classes']\n",
    "happened=['made a lot of enemies','hanged till death','found the codename of the intelligence operation','solved one of the toughest mathematical problem','has recieved nobel prize in Applied Chemistry','awarded booker prize','directed the best action film of the year']\n",
    "\n",
    "## So to be honest its an absolute beginner project where basic formation of a story is answered by asking questions like who,what,when,where,location,incident,timeline,year,relationship,name of characters etc. can be created as a list with our choice of variable as input to form the storyline.  "
   ]
  },
  {
   "cell_type": "code",
   "execution_count": 18,
   "metadata": {},
   "outputs": [
    {
     "name": "stdout",
     "output_type": "stream",
     "text": [
      "A long time ago, Kakashi Hatake who lived in Caerdydd, went to the stadium and directed the best action film of the year\n"
     ]
    }
   ],
   "source": [
    "# Now, we will concatenate the above list to form our random story generator\n",
    "\n",
    "print(random.choice(when) + ', ' + random.choice(who) + ' who lived in ' + random.choice(residence) + ', went to the ' + random.choice(went) + ' and ' + random.choice(happened))"
   ]
  },
  {
   "cell_type": "markdown",
   "metadata": {},
   "source": [
    "#### If you are having a laugh after my random story generator output. Do upvote :)\n",
    "#### Noob in Python. Thanks though for the time!"
   ]
  },
  {
   "cell_type": "code",
   "execution_count": 12,
   "metadata": {},
   "outputs": [],
   "source": [
    "## Lets head on the next project, Yes PASSWORD GENERATOR is it.\n",
    "#### we will again import random module to select variables of our own choice and perfrom random sampling to pick out combination of variables of user defined length of the password \n",
    "\n",
    "import random"
   ]
  },
  {
   "cell_type": "code",
   "execution_count": 17,
   "metadata": {},
   "outputs": [
    {
     "name": "stdout",
     "output_type": "stream",
     "text": [
      "Enter the desired length of the password10\n",
      "5e>ioE!UqA\n"
     ]
    }
   ],
   "source": [
    "# Now we will create the user defined input to consider or generate the length of the password\n",
    "\n",
    "len_password=int(input('Enter the desired length of the password'))\n",
    "\n",
    "## Now we will create a sample space to pick up the characters to form the password and will store it in a variable\n",
    "\n",
    "s=\"abcdefghijklmnopqrstuvwxyzABCDEFGHIJKLMNOPQRSTUVWXYZ123456789!@#$%^&*)_+/*><:\"\n",
    "\n",
    "### Random sampling is perfromed by joining the length of the password\n",
    "\n",
    "p=\"\".join(random.sample(s,len_password))\n",
    "\n",
    "#### One major disadvantage of this process is that if your sample length is smaller than your password length. It will through you an error.\n",
    "\n",
    "print(p)"
   ]
  },
  {
   "cell_type": "code",
   "execution_count": null,
   "metadata": {},
   "outputs": [],
   "source": []
  }
 ],
 "metadata": {
  "kernelspec": {
   "display_name": "Python 3",
   "language": "python",
   "name": "python3"
  },
  "language_info": {
   "codemirror_mode": {
    "name": "ipython",
    "version": 3
   },
   "file_extension": ".py",
   "mimetype": "text/x-python",
   "name": "python",
   "nbconvert_exporter": "python",
   "pygments_lexer": "ipython3",
   "version": "3.8.5"
  }
 },
 "nbformat": 4,
 "nbformat_minor": 4
}
